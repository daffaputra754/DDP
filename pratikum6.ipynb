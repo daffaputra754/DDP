{
  "nbformat": 4,
  "nbformat_minor": 0,
  "metadata": {
    "colab": {
      "provenance": [],
      "authorship_tag": "ABX9TyOd12qqEvO+0FGP/qCvRaQW",
      "include_colab_link": true
    },
    "kernelspec": {
      "name": "python3",
      "display_name": "Python 3"
    },
    "language_info": {
      "name": "python"
    }
  },
  "cells": [
    {
      "cell_type": "markdown",
      "metadata": {
        "id": "view-in-github",
        "colab_type": "text"
      },
      "source": [
        "<a href=\"https://colab.research.google.com/github/daffaputra754/DDP/blob/main/pratikum6.ipynb\" target=\"_parent\"><img src=\"https://colab.research.google.com/assets/colab-badge.svg\" alt=\"Open In Colab\"/></a>"
      ]
    },
    {
      "cell_type": "code",
      "execution_count": null,
      "metadata": {
        "id": "vuYrNwHe7Vjk",
        "colab": {
          "base_uri": "https://localhost:8080/"
        },
        "outputId": "9cfac10c-8c45-48b5-bece-4aa5e3a838b6"
      },
      "outputs": [
        {
          "output_type": "stream",
          "name": "stdout",
          "text": [
            "402\n",
            "984\n",
            "360\n",
            "408\n",
            "980\n",
            "544\n",
            "390\n",
            "984\n",
            "592\n",
            "236\n",
            "942\n",
            "386\n",
            "462\n",
            "418\n",
            "344\n",
            "236\n",
            "566\n",
            "978\n",
            "328\n",
            "162\n",
            "758\n",
            "918\n",
            "412\n",
            "566\n",
            "826\n",
            "248\n",
            "866\n",
            "950\n",
            "626\n",
            "104\n",
            "58\n",
            "512\n",
            "24\n",
            "892\n",
            "894\n"
          ]
        }
      ],
      "source": [
        "\n",
        "numbers = [\n",
        " 951, 402, 984, 651, 360, 69, 408, 319, 601, 485, 980, 507, 725,\n",
        "547, 544, 615, 83, 165, 141, 501, 263, 617, 865, 575, 219, 390,\n",
        "984, 592, 236, 105, 942, 941, 386, 462, 47, 418, 907, 344, 236,\n",
        "375, 823, 566, 597, 978, 328, 615, 953, 345, 399, 162, 758, 219,\n",
        "918, 237, 412, 566, 826, 248, 866, 950, 626, 949, 687, 217, 815,\n",
        "67, 104, 58, 512, 24, 892, 894, 767, 553, 81, 379, 843, 831, 445,\n",
        "742, 717, 958, 609, 842, 451, 688, 753, 854, 685, 93, 857, 440,\n",
        "380, 126, 721, 328, 753, 470, 743, 527\n",
        "]\n",
        "\n",
        "indeks = 0\n",
        "while indeks <= len(numbers):\n",
        " if numbers [indeks] == 553:\n",
        "    break\n",
        " if numbers[indeks] %2 == 0:\n",
        "   print(numbers[indeks])\n",
        " indeks += 1"
      ]
    },
    {
      "cell_type": "code",
      "source": [
        "jumlah=0\n",
        "string=\"\"\n",
        "bilangan=1\n",
        "while bilangan<=19:\n",
        "  jumlah+=bilangan\n",
        "  string+=str(bilangan)\n",
        "  if bilangan<19:\n",
        "    string+= '+'\n",
        "  bilangan+=2\n",
        "print(string, '=',jumlah)"
      ],
      "metadata": {
        "colab": {
          "base_uri": "https://localhost:8080/"
        },
        "id": "VU3JbjXuGO_8",
        "outputId": "33da6fce-33b2-4c34-f25f-f0159796e95f"
      },
      "execution_count": 24,
      "outputs": [
        {
          "output_type": "stream",
          "name": "stdout",
          "text": [
            "1+3+5+7+9+11+13+15+17+19 = 100\n"
          ]
        }
      ]
    },
    {
      "cell_type": "code",
      "source": [
        "baris = int(input('masukan angka: '))\n",
        "for i in range(1, baris + 1) :\n",
        " print('AKU' * i)"
      ],
      "metadata": {
        "colab": {
          "base_uri": "https://localhost:8080/"
        },
        "id": "DKIxwIcBGzNs",
        "outputId": "f555349a-7684-4afa-cbdf-6f006fea2560"
      },
      "execution_count": 29,
      "outputs": [
        {
          "output_type": "stream",
          "name": "stdout",
          "text": [
            "masukan angka: 1\n",
            "AKU\n"
          ]
        }
      ]
    }
  ]
}