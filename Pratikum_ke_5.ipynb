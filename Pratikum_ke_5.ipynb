{
  "cells": [
    {
      "cell_type": "markdown",
      "metadata": {
        "id": "view-in-github",
        "colab_type": "text"
      },
      "source": [
        "<a href=\"https://colab.research.google.com/github/daffaputra754/DDP/blob/main/Pratikum_ke_5.ipynb\" target=\"_parent\"><img src=\"https://colab.research.google.com/assets/colab-badge.svg\" alt=\"Open In Colab\"/></a>"
      ]
    },
    {
      "cell_type": "code",
      "execution_count": null,
      "metadata": {
        "id": "AF9SQtMm0iUT"
      },
      "outputs": [],
      "source": [
        "namaKendaraan = \"Beat Ember\"\n",
        "jenisKendaraan = \"motor\"\n",
        "ccKendaraan = 200\n",
        "warnaKendaraan = \"Hitam\"\n",
        "rodaKendaraan = 2\n",
        "\n",
        "data_kendaraan = [\n",
        " namaKendaraan, jenisKendaraan, ccKendaraan, warnaKendaraan, rodaKendaraan\n",
        "]\n",
        "print(data_kendaraan)\n",
        "\n",
        "hargaKendaraan = 5000\n",
        "tipeKendaraan = \"matic\"\n",
        "\n",
        "data_kendaraan.append(hargaKendaraan)\n",
        "data_kendaraan.append(tipeKendaraan)\n",
        "print(data_kendaraan)\n",
        "\n",
        "merkKendaraan = \"Honda\"\n",
        "data_kendaraan.insert(2, merkKendaraan)\n",
        "print(data_kendaraan)"
      ]
    },
    {
      "cell_type": "code",
      "source": [
        "hitung = int(input(\"\"\"\"\"\n",
        "1. menghitung luas persegi\n",
        "2. menghitung luas lingkaran\n",
        "3. menghitung luas persegi\n",
        "masukan angkanya:\n",
        "\"\"\"\"\"))\n",
        "match hitung:\n",
        "    case 1:\n",
        "        a = int(input(\"masukan sisi: \"))\n",
        "        luas = a * a\n",
        "        print(\"hasilnya: \", luas)\n",
        "    case 2:\n",
        "        r = float(input(\"Masukkan jari-jari lingkaran: \"))\n",
        "        luas = 3.14 * (r ** 2)\n",
        "        print(\"Luas lingkaran adalah:\", round(luas, 2))\n",
        "    case 3:\n",
        "        alas = float(input(\"Masukkan alas segitiga: \"))\n",
        "        tinggi = float(input(\"Masukkan tinggi segitiga: \"))\n",
        "        luas = 0.5 * alas * tinggi\n",
        "        print(\"Luas segitiga adalah:\", luas)\n",
        "    case _:\n",
        "        print(\"apa coba\")"
      ],
      "metadata": {
        "id": "-2X5z4DxC9ag"
      },
      "execution_count": null,
      "outputs": []
    }
  ],
  "metadata": {
    "colab": {
      "provenance": [],
      "authorship_tag": "ABX9TyP4z9cw/XYzrNKt0vClZE5V",
      "include_colab_link": true
    },
    "kernelspec": {
      "display_name": "Python 3",
      "name": "python3"
    },
    "language_info": {
      "name": "python"
    }
  },
  "nbformat": 4,
  "nbformat_minor": 0
}